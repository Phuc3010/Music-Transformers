{
 "cells": [
  {
   "cell_type": "code",
   "execution_count": 2,
   "metadata": {},
   "outputs": [],
   "source": [
    "import torch\n",
    "from model import Transformer\n",
    "import matplotlib.pyplot as plt\n",
    "import numpy as np"
   ]
  },
  {
   "cell_type": "code",
   "execution_count": 3,
   "metadata": {},
   "outputs": [],
   "source": [
    "def load_model(filepath):\n",
    "    \"\"\"\n",
    "    Load a MusicTransformer from a saved pytorch state_dict and hparams. The input filepath should point to a .pt\n",
    "    file in which has been saved a dictionary containing the model state dict and hparams, ex:\n",
    "    torch.save(filepath, {\n",
    "        \"state_dict\": MusicTransformer.state_dict(),\n",
    "        \"hparams\": hparams (dict)\n",
    "    })\n",
    "\n",
    "    Args:\n",
    "        filepath (str): path to single .pt file containing the dictionary as described above\n",
    "\n",
    "    Returns:\n",
    "        the loaded MusicTransformer model\n",
    "    \"\"\"\n",
    "    \n",
    "    file = torch.load(filepath)\n",
    "    model = Transformer(**file[\"hyper_params\"]).to(\"cuda:0\" if torch.cuda.is_available() else \"cpu\") \n",
    "    model.load_state_dict(file[\"model_state_dict\"])\n",
    "    model.eval()\n",
    "\n",
    "    return model.to(\"cuda:0\" if torch.cuda.is_available() else \"cpu\"), file"
   ]
  },
  {
   "cell_type": "code",
   "execution_count": 4,
   "metadata": {},
   "outputs": [],
   "source": [
    "model, params = load_model(\"./checkpoints/FPT_Model300.pt\")"
   ]
  },
  {
   "cell_type": "code",
   "execution_count": 5,
   "metadata": {},
   "outputs": [],
   "source": [
    "x_axis =  np.arange(len(params[\"train_loss\"]))"
   ]
  },
  {
   "cell_type": "code",
   "execution_count": 6,
   "metadata": {},
   "outputs": [
    {
     "data": {
      "image/png": "[encoded data removed]",
      "text/plain": [
       "<Figure size 432x288 with 1 Axes>"
      ]
     },
     "metadata": {
      "needs_background": "light"
     },
     "output_type": "display_data"
    }
   ],
   "source": [
    "plt.plot(x_axis, params[\"train_loss\"], \"blue\", label=\"Train loss\")\n",
    "plt.plot(x_axis, params[\"valid_loss\"], \"red\", label=\"Valid loss\")\n",
    "plt.legend()\n",
    "plt.show()"
   ]
  },
  {
   "cell_type": "code",
   "execution_count": null,
   "metadata": {},
   "outputs": [],
   "source": []
  }
 ],
 "metadata": {
  "kernelspec": {
   "display_name": "Math Scanner",
   "language": "python",
   "name": "math_scanner"
  },
  "language_info": {
   "codemirror_mode": {
    "name": "ipython",
    "version": 3
   },
   "file_extension": ".py",
   "mimetype": "text/x-python",
   "name": "python",
   "nbconvert_exporter": "python",
   "pygments_lexer": "ipython3",
   "version": "3.8.13"
  },
  "vscode": {
   "interpreter": {
    "hash": "5f78a2188cb18f1d1b48b1c3e16134f49cf1ff911d33c8fa794e65e1b48518af"
   }
  }
 },
 "nbformat": 4,
 "nbformat_minor": 2
}
