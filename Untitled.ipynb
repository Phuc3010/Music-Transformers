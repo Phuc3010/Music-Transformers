{
 "cells": [
  {
   "cell_type": "code",
   "execution_count": 1,
   "id": "d5df1bbd",
   "metadata": {},
   "outputs": [],
   "source": [
    "import torch\n",
    "import glob\n",
    "from miditoolkit.midi import parser as mid_parser  \n",
    "from miditoolkit.midi import containers as ct\n",
    "import numpy as np\n",
    "import matplotlib.pyplot as plt"
   ]
  },
  {
   "cell_type": "code",
   "execution_count": 2,
   "id": "e19d9083",
   "metadata": {},
   "outputs": [],
   "source": [
    "NUM_NOTES = 19\n",
    "NUM_TIME = 4\n",
    "SCALE_NOTE = 48\n",
    "NOTE_SEQ = [0, 2, 4, 5, 7, 9, 11, 12, 14, 16, 17, 19, 21, 23, 24, 26, 28, 29, 31]\n",
    "NOTE_SEQ = [f\"note_{i}\" for i in NOTE_SEQ]\n",
    "SYMBOL_SEQ = [f\"symbol_{1<<i}\" for i in range(NUM_TIME)]\n",
    "TIME_SEQ = [f\"note_{1<<i}\" for i in range(NUM_TIME)]\n",
    "SUPPORT_SEQ = [\"<pad>\", \"<start>\", \"<end>\"]\n",
    "VOCABULARY = {\n",
    "    \"NOTE\": SUPPORT_SEQ + NOTE_SEQ,\n",
    "    \"TIME\": SUPPORT_SEQ + SYMBOL_SEQ  + TIME_SEQ\n",
    "}"
   ]
  },
  {
   "cell_type": "code",
   "execution_count": 3,
   "id": "d3848d3f",
   "metadata": {},
   "outputs": [],
   "source": [
    "def load_midi_folder(path: str) -> list:\n",
    "    list_path = glob.glob(path)\n",
    "    midi_list = [mid_parser.MidiFile(_path) for _path in list_path]\n",
    "    midi_list = list(filter(lambda midi: len(midi.time_signature_changes)==1 , midi_list))\n",
    "    midi_list = list(filter(lambda midi: midi.time_signature_changes[0].numerator==2 and midi.time_signature_changes[0].denominator==4 , midi_list))\n",
    "    print(f\"[INFO] Load successfully {len(midi_list)} file midi from source\")\n",
    "    return midi_list"
   ]
  },
  {
   "cell_type": "code",
   "execution_count": 4,
   "id": "9282182d",
   "metadata": {},
   "outputs": [],
   "source": [
    "def plot_midi_roll(midi: list) -> None:\n",
    "    fig, ax = plt.subplots(figsize=(18, 5))\n",
    "    ax.set_facecolor('White')\n",
    "    start = np.zeros(NUM_NOTES)\n",
    "    label = np.arange(NUM_NOTES)\n",
    "    scales = list(filter(lambda word: \"symbol\" not in word, midi))\n",
    "    scales = [int(i.split(\"_\")[1])//12 for i in scales]\n",
    "    min_scale = 12*min(scales)\n",
    "    for word in midi:\n",
    "        if \"symbol\" in word:\n",
    "            start += 32//int(word.split(\"_\")[-1])\n",
    "        else:\n",
    "            pitch = int(word.split(\"_\")[1])\n",
    "            pitch -= min_scale\n",
    "            duration = 32//int(word.split(\"_\")[-1])\n",
    "            width = np.zeros(NUM_NOTES)\n",
    "            width[NOTE_SEQ.index(f\"note_{pitch}\")] = duration\n",
    "            ax.barh(label, width, left=start, height=0.4, label=pitch, color=\"green\")\n",
    "            start += (duration+2)\n",
    "    plt.xlabel(\"Time by tick\")\n",
    "    plt.ylabel(\"Pitch\")\n",
    "    plt.show()"
   ]
  },
  {
   "cell_type": "code",
   "execution_count": 5,
   "id": "1a534fb2",
   "metadata": {},
   "outputs": [],
   "source": [
    "def get_duration(time: int, ticks_per_beat: int) -> int:\n",
    "    all_tick = 2*ticks_per_beat\n",
    "    duration = (1<<4)\n",
    "    diff = all_tick\n",
    "    for current_pow in range(5):\n",
    "        if diff > abs(all_tick//(1<<current_pow) - time):\n",
    "            duration = (1<<current_pow)\n",
    "            diff = abs(all_tick//(1<<current_pow) - time)\n",
    "    return duration"
   ]
  },
  {
   "cell_type": "code",
   "execution_count": 6,
   "id": "d674cdd5",
   "metadata": {},
   "outputs": [],
   "source": [
    "def time2duration(time: int, ticks_per_beat: int) -> list:\n",
    "    all_tick = 2*ticks_per_beat\n",
    "    duration_list = []\n",
    "    for current_pow in range(5):\n",
    "        while time >= all_tick//(1<<current_pow):\n",
    "            duration_list.append(1<<current_pow)\n",
    "            time -= all_tick//(1<<current_pow)\n",
    "    return duration_list"
   ]
  },
  {
   "cell_type": "code",
   "execution_count": 7,
   "id": "8cf8cf8c",
   "metadata": {},
   "outputs": [],
   "source": [
    "def midi2seq(midi_list: list) -> list:\n",
    "    sequences = []\n",
    "    tmp_cache = {\n",
    "        \"note\": 0,\n",
    "        \"track\": 0,\n",
    "        \"symbol\": 0\n",
    "    }\n",
    "    for midi in midi_list:\n",
    "        notes = midi.instruments[0].notes\n",
    "        current_time = 0\n",
    "        sequence = []\n",
    "        tmp_cache[\"track\"] += (notes[-1].end//(2*midi.ticks_per_beat) + (notes[-1].end%(2*midi.ticks_per_beat) != 0))\n",
    "        sub_pitch = 0\n",
    "        if len(midi.key_signature_changes):\n",
    "            sub_pitch = midi.key_signature_changes[0].key_number\n",
    "        for note in notes:\n",
    "            diff = note.start - current_time\n",
    "            note.pitch -= sub_pitch\n",
    "            if diff > 0:\n",
    "                seq_duration = time2duration(diff, midi.ticks_per_beat)\n",
    "                seq_duration = [f\"symbol_{i}\" for i in seq_duration]\n",
    "                current_time = note.start\n",
    "                sequence += seq_duration\n",
    "                tmp_cache[\"symbol\"] += len(seq_duration)\n",
    "            note_duration = get_duration(note.end-note.start, midi.ticks_per_beat)\n",
    "            sequence += [f\"note_{note.pitch}_{note_duration}\"]\n",
    "            duration = 2*midi.ticks_per_beat//(note_duration)\n",
    "            current_time += duration\n",
    "            tmp_cache[\"note\"] += 1\n",
    "        sequences.append(sequence)\n",
    "    print(\"[INFO] Convert midi to sequences successfully\")\n",
    "    print(f\"\\t[+] Note: {tmp_cache['note']}\")\n",
    "    print(f\"\\t[+] Symbol: {tmp_cache['symbol']}\")\n",
    "    print(f\"\\t[+] Track: {tmp_cache['track']}\")\n",
    "    return sequences"
   ]
  },
  {
   "cell_type": "code",
   "execution_count": 8,
   "id": "d3c00655",
   "metadata": {},
   "outputs": [],
   "source": [
    "def scale_time(time_sequence: list) -> list:\n",
    "    new_seq = []\n",
    "    back_note = \"\"\n",
    "    back_symbol = \"\"\n",
    "    for word in time_sequence:\n",
    "        val = int(word.split(\"_\")[-1])\n",
    "        if val == 16:\n",
    "            if \"note_\" in word and back_note == \"\":\n",
    "                new_seq.append(\"note_8\")\n",
    "                back_note = word \n",
    "            if \"note_\" in word and back_note == word:\n",
    "                back_note = \"\"\n",
    "                continue\n",
    "            if \"symbol_\" in word and back_symbol == \"\":\n",
    "                new_seq.append(\"symbol_8\")\n",
    "                back_symbol = word\n",
    "            if \"symbol_\" in word and back_symbol == word:\n",
    "                back_symbol = \"\"\n",
    "                continue\n",
    "        else:\n",
    "            new_seq.append(word)\n",
    "    return new_seq"
   ]
  },
  {
   "cell_type": "code",
   "execution_count": 9,
   "id": "f984ee9e",
   "metadata": {},
   "outputs": [],
   "source": [
    "def seq2seq_idx(sequences: list) -> list:\n",
    "    time_sequences = []\n",
    "    note_sequences = []\n",
    "    \n",
    "    # Split into time frame and note frame\n",
    "    for midi_seq in sequences:\n",
    "        note_seq = list(filter(lambda word: \"note\" in word, midi_seq))\n",
    "        note_seq = list(map(lambda word: f\"note_{word.split('_')[1]}\", note_seq))\n",
    "        time_seq = list(map(lambda word: f\"{word.split('_')[0]}_{word.split('_')[-1]}\" , midi_seq))\n",
    "        time_seq = scale_time(time_seq)\n",
    "        time_seq = list(map(lambda word: VOCABULARY[\"TIME\"].index(word), time_seq))\n",
    "        note_sequences.append(note_seq)\n",
    "        time_sequences.append(time_seq)\n",
    "    \n",
    "    # Convert note frame to tone C\n",
    "    for idx_seq, note_seq in enumerate(note_sequences):\n",
    "        scales = [int(word.split(\"_\")[-1])//12 for word in note_seq]\n",
    "        min_scales = min(scales)*12\n",
    "        note_seq = list(map(lambda word: f\"note_{int(word.split('_')[-1])-min_scales-(int(word.split('_')[-1])%12==1 or int(word.split('_')[-1])%12==6)}\", note_seq))\n",
    "        note_seq = list(map(lambda word: VOCABULARY[\"NOTE\"].index(word), note_seq))\n",
    "        note_sequences[idx_seq] = note_seq\n",
    "\n",
    "    return note_sequences, time_sequences"
   ]
  },
  {
   "cell_type": "code",
   "execution_count": 29,
   "id": "720b44ab",
   "metadata": {},
   "outputs": [],
   "source": [
    "def note2tensor(note_idx: list, seq_len: int, step: int) -> torch.Tensor:\n",
    "    tokens = torch.Tensor()\n",
    "    for idx, note in enumerate(note_idx):\n",
    "        for st in range(0,len(note),step):\n",
    "            en = seq_len + st\n",
    "            if en > len(note):\n",
    "                break\n",
    "            seq = torch.tensor([1]+note[st:en]+[2])\n",
    "            tokens = torch.cat((tokens, seq.view(1, len(seq))), dim=0)\n",
    "    tokens = tokens[torch.randperm(tokens.size(0))]\n",
    "    return tokens"
   ]
  },
  {
   "cell_type": "code",
   "execution_count": 11,
   "id": "38aa1339",
   "metadata": {},
   "outputs": [],
   "source": [
    "def split_track(time_list: int) -> list:\n",
    "    time = 0.0\n",
    "    tracks = []\n",
    "    track = []\n",
    "    for word in time_list:\n",
    "        _word = VOCABULARY[\"TIME\"][word]\n",
    "        _time = 1/int(_word.split(\"_\")[-1])\n",
    "        time += _time\n",
    "        track.append(word)\n",
    "        if time == int(time):\n",
    "            if len(track):\n",
    "                tracks.append(track)\n",
    "            track = []\n",
    "            time = 0.0\n",
    "    tracks.append(track)\n",
    "    return tracks"
   ]
  },
  {
   "cell_type": "code",
   "execution_count": 36,
   "id": "7f996d48",
   "metadata": {},
   "outputs": [],
   "source": [
    "def time2tensor(time_idx: list, track_len: int, step: int) -> torch.Tensor:\n",
    "    sequences = []\n",
    "    max_len_seq = 0\n",
    "    for time in time_idx:\n",
    "        track = split_track(time)\n",
    "        for st in range(0, len(track), step):\n",
    "            en = st + track_len\n",
    "            if en > len(track):\n",
    "                break\n",
    "            seq = []\n",
    "            for _track in track[st:en]:\n",
    "                seq += _track\n",
    "            if len(seq) > max_len_seq:\n",
    "                max_len_seq = len(seq)\n",
    "            sequences.append(seq)\n",
    "    tokens = torch.Tensor()\n",
    "    for seq in sequences:\n",
    "        padding = [0 for _ in range(max_len_seq-len(seq))]\n",
    "        seq = [1] + seq + [2] + padding\n",
    "        tokens = torch.cat((tokens, torch.tensor(seq).view(1, len(seq))), dim=0)\n",
    "    tokens = tokens[torch.randperm(tokens.size(0))]\n",
    "    return tokens"
   ]
  },
  {
   "cell_type": "code",
   "execution_count": 37,
   "id": "29654fff",
   "metadata": {},
   "outputs": [
    {
     "name": "stdout",
     "output_type": "stream",
     "text": [
      "[INFO] Load successfully 13 file midi from source\n",
      "[INFO] Convert midi to sequences successfully\n",
      "\t[+] Note: 1108\n",
      "\t[+] Symbol: 104\n",
      "\t[+] Track: 348\n",
      "torch.Size([8, 105]) torch.Size([22, 42])\n"
     ]
    },
    {
     "data": {
      "image/png": "[encoded data removed]",
      "text/plain": [
       "<Figure size 1296x360 with 1 Axes>"
      ]
     },
     "metadata": {
      "needs_background": "light"
     },
     "output_type": "display_data"
    }
   ],
   "source": [
    "path = \"./datasets/midi_songs/*.mid\"\n",
    "midi_list = load_midi_folder(path)\n",
    "sequences = midi2seq(midi_list)\n",
    "note_sequences, time_sequences = seq2seq_idx(sequences)\n",
    "\n",
    "note_tensor = note2tensor(note_sequences, 40, 40)\n",
    "time_tensor = time2tensor(time_sequences, 20, 20)\n",
    "torch.save(note_tensor, \"./data_gen/note_tensor_v2.pt\")\n",
    "torch.save(time_tensor, \"./data_gen/time_tensor_v2.pt\")\n",
    "\n",
    "print(time_tensor.size(), note_tensor.size())\n",
    "plot_midi_roll(sequences[1])"
   ]
  },
  {
   "cell_type": "code",
   "execution_count": 26,
   "id": "3556e69e",
   "metadata": {},
   "outputs": [
    {
     "data": {
      "text/plain": [
       "tensor([ 1., 11., 10., 12., 11., 10.,  7.,  7.,  7., 10., 10.,  7.,  7., 10.,\n",
       "         7., 10.,  8.,  7.,  6.,  6.,  8.,  7.,  8., 10., 10.,  9.,  7.,  8.,\n",
       "         7.,  7.,  8.,  7.,  8., 10., 12., 11., 10.,  7.,  8.,  7.,  7.,  2.])"
      ]
     },
     "execution_count": 26,
     "metadata": {},
     "output_type": "execute_result"
    }
   ],
   "source": [
    "note_tensor[2]"
   ]
  },
  {
   "cell_type": "code",
   "execution_count": 34,
   "id": "b52fe8cb",
   "metadata": {},
   "outputs": [
    {
     "data": {
      "text/plain": [
       "tensor([ 1.,  4.,  5.,  9.,  8.,  9.,  9.,  9., 10., 10.,  8.,  9.,  9., 10.,\n",
       "        10., 10., 10.,  8.,  9., 10., 10.,  8.,  9.,  9.,  8.,  5., 10., 10.,\n",
       "         9.,  6., 10., 10., 10., 10., 10.,  8.,  9., 10., 10.,  9.,  6., 10.,\n",
       "        10., 10., 10., 10.,  8., 10., 10., 10.,  9.,  8., 10., 10., 10.,  9.,\n",
       "         9.,  6., 10.,  9., 10., 10.,  9.,  6., 10., 10., 10., 10., 10.,  9.,\n",
       "         6., 10.,  9., 10., 10.,  8., 10., 10., 10., 10.,  7.,  8.,  5.,  9.,\n",
       "         8.,  9.,  9.,  9., 10., 10.,  8.,  9.,  9., 10., 10., 10., 10.,  8.,\n",
       "         9., 10., 10.,  8., 10., 10.,  2.])"
      ]
     },
     "execution_count": 34,
     "metadata": {},
     "output_type": "execute_result"
    }
   ],
   "source": [
    "time_tensor[0]"
   ]
  },
  {
   "cell_type": "code",
   "execution_count": 32,
   "id": "b410bc46",
   "metadata": {},
   "outputs": [
    {
     "data": {
      "text/plain": [
       "torch.Size([8, 105])"
      ]
     },
     "execution_count": 32,
     "metadata": {},
     "output_type": "execute_result"
    }
   ],
   "source": [
    "time_tensor.shape"
   ]
  },
  {
   "cell_type": "code",
   "execution_count": 33,
   "id": "659d5ae3",
   "metadata": {},
   "outputs": [
    {
     "data": {
      "text/plain": [
       "torch.Size([22, 42])"
      ]
     },
     "execution_count": 33,
     "metadata": {},
     "output_type": "execute_result"
    }
   ],
   "source": [
    "note_tensor.shape"
   ]
  },
  {
   "cell_type": "code",
   "execution_count": null,
   "id": "7f86e125",
   "metadata": {},
   "outputs": [],
   "source": []
  }
 ],
 "metadata": {
  "kernelspec": {
   "display_name": "Math Scanner",
   "language": "python",
   "name": "math_scanner"
  },
  "language_info": {
   "codemirror_mode": {
    "name": "ipython",
    "version": 3
   },
   "file_extension": ".py",
   "mimetype": "text/x-python",
   "name": "python",
   "nbconvert_exporter": "python",
   "pygments_lexer": "ipython3",
   "version": "3.8.13"
  }
 },
 "nbformat": 4,
 "nbformat_minor": 5
}
