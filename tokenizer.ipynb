{
 "cells": [
  {
   "cell_type": "code",
   "execution_count": 1,
   "metadata": {},
   "outputs": [],
   "source": [
    "from tokenizer import *"
   ]
  },
  {
   "cell_type": "code",
   "execution_count": 2,
   "metadata": {},
   "outputs": [
    {
     "name": "stdout",
     "output_type": "stream",
     "text": [
      "[INFO] Load successfully 13 file midi from source\n",
      "[INFO] Convert midi to sequences successfully\n",
      "\t[+] Note: 1108\n",
      "\t[+] Symbol: 104\n",
      "\t[+] Track: 348\n"
     ]
    }
   ],
   "source": [
    "path = \"./datasets/midi_songs/*.mid\"\n",
    "midi_list = load_midi_folder(path)\n",
    "sequences = midi2seq(midi_list)"
   ]
  },
  {
   "cell_type": "code",
   "execution_count": 3,
   "metadata": {},
   "outputs": [
    {
     "data": {
      "text/plain": [
       "KeySignature(key_name=F, key_number=5, time=0)"
      ]
     },
     "execution_count": 3,
     "metadata": {},
     "output_type": "execute_result"
    }
   ],
   "source": [
    "midi_list[0].key_signature_changes[0]"
   ]
  },
  {
   "cell_type": "code",
   "execution_count": 4,
   "metadata": {},
   "outputs": [],
   "source": [
    "def scale_time(time_sequence: list) -> list:\n",
    "    new_seq = []\n",
    "    back_note = \"\"\n",
    "    back_symbol = \"\"\n",
    "    for word in time_sequence:\n",
    "        val = int(word.split(\"_\")[-1])\n",
    "        if val == 16:\n",
    "            if \"note_\" in word and back_note == \"\":\n",
    "                new_seq.append(\"note_8\")\n",
    "                back_note = word \n",
    "            if \"note_\" in word and back_note == word:\n",
    "                back_note = \"\"\n",
    "                continue\n",
    "            if \"symbol_\" in word and back_symbol == \"\":\n",
    "                new_seq.append(\"symbol_8\")\n",
    "                back_symbol = word\n",
    "            if \"symbol_\" in word and back_symbol == word:\n",
    "                back_symbol = \"\"\n",
    "                continue\n",
    "        else:\n",
    "            new_seq.append(word)\n",
    "    return new_seq"
   ]
  },
  {
   "cell_type": "code",
   "execution_count": 5,
   "metadata": {},
   "outputs": [],
   "source": [
    "def seq2seq_idx(sequences: list) -> list:\n",
    "    time_sequences = []\n",
    "    note_sequences = []\n",
    "    \n",
    "    # Split into time frame and note frame\n",
    "    for midi_seq in sequences:\n",
    "        note_seq = list(filter(lambda word: \"note\" in word, midi_seq))\n",
    "        note_seq = list(map(lambda word: f\"note_{word.split('_')[1]}\", note_seq))\n",
    "        time_seq = list(map(lambda word: f\"{word.split('_')[0]}_{word.split('_')[-1]}\" , midi_seq))\n",
    "        time_seq = scale_time(time_seq)\n",
    "        time_seq = list(map(lambda word: VOCABULARY[\"TIME\"].index(word), time_seq))\n",
    "        note_sequences.append(note_seq)\n",
    "        time_sequences.append(time_seq)\n",
    "    \n",
    "    # Convert note frame to tone C\n",
    "    for idx_seq, note_seq in enumerate(note_sequences):\n",
    "        scales = [int(word.split(\"_\")[-1])//12 for word in note_seq]\n",
    "        min_scales = min(scales)*12\n",
    "        note_seq = list(map(lambda word: f\"note_{int(word.split('_')[-1])-min_scales-(int(word.split('_')[-1])%12==1 or int(word.split('_')[-1])%12==6)}\", note_seq))\n",
    "        note_seq = list(map(lambda word: VOCABULARY[\"NOTE\"].index(word), note_seq))\n",
    "        note_sequences[idx_seq] = note_seq\n",
    "\n",
    "    return note_sequences, time_sequences"
   ]
  },
  {
   "cell_type": "code",
   "execution_count": 6,
   "metadata": {},
   "outputs": [],
   "source": [
    "note_sequences, time_sequences = seq2seq_idx(sequences)"
   ]
  },
  {
   "cell_type": "code",
   "execution_count": 7,
   "metadata": {},
   "outputs": [],
   "source": [
    "note_tensor = note2tensor(note_sequences, 16, 2)\n",
    "time_tensor = time2tensor(time_sequences, 8, 2)"
   ]
  },
  {
   "cell_type": "code",
   "execution_count": 23,
   "metadata": {},
   "outputs": [],
   "source": [
    "import functools\n",
    "concat = functools.reduce(lambda x1, x2: x1+x2, note_sequences)"
   ]
  },
  {
   "cell_type": "code",
   "execution_count": 24,
   "metadata": {},
   "outputs": [],
   "source": [
    "concat = [VOCABULARY[\"NOTE\"][int(i)].split(\"_\")[-1] for i in concat]"
   ]
  },
  {
   "cell_type": "code",
   "execution_count": 26,
   "metadata": {},
   "outputs": [
    {
     "data": {
      "text/plain": [
       "Counter({'19': 56,\n",
       "         '14': 187,\n",
       "         '21': 21,\n",
       "         '16': 127,\n",
       "         '12': 201,\n",
       "         '7': 183,\n",
       "         '24': 22,\n",
       "         '26': 18,\n",
       "         '28': 14,\n",
       "         '31': 1,\n",
       "         '11': 31,\n",
       "         '9': 125,\n",
       "         '4': 43,\n",
       "         '2': 49,\n",
       "         '17': 1,\n",
       "         '5': 17,\n",
       "         '0': 12})"
      ]
     },
     "execution_count": 26,
     "metadata": {},
     "output_type": "execute_result"
    }
   ],
   "source": [
    "from collections import Counter\n",
    "ct = Counter(concat)\n",
    "ct"
   ]
  },
  {
   "cell_type": "code",
   "execution_count": 13,
   "metadata": {},
   "outputs": [
    {
     "data": {
      "text/plain": [
       "torch.Size([66, 18])"
      ]
     },
     "execution_count": 13,
     "metadata": {},
     "output_type": "execute_result"
    }
   ],
   "source": [
    "note_tensor.shape"
   ]
  },
  {
   "cell_type": "code",
   "execution_count": 8,
   "metadata": {},
   "outputs": [],
   "source": [
    "torch.save(note_tensor, \"./data_gen/note_tensor_v2.pt\")\n",
    "torch.save(time_tensor, \"./data_gen/time_tensor_v2.pt\")"
   ]
  },
  {
   "cell_type": "code",
   "execution_count": null,
   "metadata": {},
   "outputs": [],
   "source": []
  },
  {
   "cell_type": "code",
   "execution_count": null,
   "metadata": {},
   "outputs": [],
   "source": []
  },
  {
   "cell_type": "code",
   "execution_count": null,
   "metadata": {},
   "outputs": [],
   "source": []
  },
  {
   "cell_type": "code",
   "execution_count": 1,
   "metadata": {},
   "outputs": [],
   "source": [
    "from generate import *"
   ]
  },
  {
   "cell_type": "code",
   "execution_count": 2,
   "metadata": {},
   "outputs": [],
   "source": [
    "model_note = load_model(\"./checkpoints/model_note_frames_v2.pt\")\n",
    "model_time = load_model(\"./checkpoints/model_time_frames_v2.pt\")\n",
    "token = [1]"
   ]
  },
  {
   "cell_type": "code",
   "execution_count": 69,
   "metadata": {},
   "outputs": [
    {
     "name": "stdout",
     "output_type": "stream",
     "text": [
      "['note_4', 'symbol_2']\n",
      "[4, 7, 29, 11, 0, 4, 4, 17, 28, 17, 24, 5, 31, 19, 16, 7, 26, 7, 14, 14, 4, 2, 7, 28, 24, 12, 16, 21, 26, 9, 26, 0, 17, 12, 5, 23, 2, 7, 7, 2, 17, 5, 31]\n"
     ]
    }
   ],
   "source": [
    "seg_note = generate(model=model_note, x=token, min_length=15, max_length=128)\n",
    "seg_time = generate(model=model_time, x=token, min_length=85, max_length=128)\n",
    "time_frame = process_timeframe(seg_time)\n",
    "note_frame = process_noteframe(seg_note)\n",
    "print(time_frame)\n",
    "print(note_frame)\n"
   ]
  },
  {
   "cell_type": "code",
   "execution_count": null,
   "metadata": {},
   "outputs": [],
   "source": []
  },
  {
   "cell_type": "code",
   "execution_count": 61,
   "metadata": {},
   "outputs": [
    {
     "name": "stdout",
     "output_type": "stream",
     "text": [
      "[+] Save midi file sucessfully! File name: ./midi_gen/b1_2_4.mid\n"
     ]
    }
   ],
   "source": [
    "\n",
    "# torch.save(time_frame, \"./data_gen/pred_time_frame_v2.pt\")\n",
    "# torch.save(note_frame, \"./data_gen/pred_note_frame_v2.pt\")\n",
    "\n",
    "midi_obj = frame2midi(note_frame, time_frame,save_path=\"./midi_gen/b1_2_4.mid\", numerator=2)"
   ]
  },
  {
   "cell_type": "code",
   "execution_count": null,
   "metadata": {},
   "outputs": [],
   "source": []
  }
 ],
 "metadata": {
  "kernelspec": {
   "display_name": "Math Scanner",
   "language": "python",
   "name": "math_scanner"
  },
  "language_info": {
   "codemirror_mode": {
    "name": "ipython",
    "version": 3
   },
   "file_extension": ".py",
   "mimetype": "text/x-python",
   "name": "python",
   "nbconvert_exporter": "python",
   "pygments_lexer": "ipython3",
   "version": "3.8.13"
  },
  "vscode": {
   "interpreter": {
    "hash": "0f62533434ab86d865c1b9dfc4affa72a8d0f2ee6bcf070de790e4cfd4498905"
   }
  }
 },
 "nbformat": 4,
 "nbformat_minor": 2
}
